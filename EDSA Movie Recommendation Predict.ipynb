{
 "cells": [
  {
   "cell_type": "markdown",
   "id": "2a690e47",
   "metadata": {},
   "source": [
    "## EDSA Movie Recommendation Predict ##\n",
    "\n",
    "This notebook is used to build a Movie recommendation model to predict movie rating for different users and movies"
   ]
  },
  {
   "cell_type": "markdown",
   "id": "996b00a6",
   "metadata": {},
   "source": [
    "**Steps followed in notebook**\n",
    "\n",
    "1. Import all libraries (data cleaning, preprocesing, EDA, models, cross validation, evaluation).\n",
    "2. Import datasets\n",
    "3. Data cleaning and data preprocessing\n",
    "4. Exploratory data analysis \"EDA\"\n",
    "6. Model building and comparison\n",
    "7. Model hyperparameter tuning\n",
    "8. Models Metrics evaluation\n",
    "9. Final model creation\n",
    "10. Save model for reproducability"
   ]
  },
  {
   "cell_type": "markdown",
   "id": "4d5affb9",
   "metadata": {},
   "source": [
    "## Imports libraries and packages ##"
   ]
  },
  {
   "cell_type": "code",
   "execution_count": 157,
   "id": "cd2b4803",
   "metadata": {},
   "outputs": [],
   "source": [
    "#import libraries for operating system\n",
    "import os\n",
    "#import libraries for data processing\n",
    "import pandas as pd\n",
    "import numpy as np\n",
    "import re\n",
    "#import visualisation libraries\n",
    "import matplotlib.pyplot as plt\n",
    "import seaborn as sns\n",
    "\n",
    "#import surprise data preprocessors\n",
    "from surprise import Reader\n",
    "from surprise import Dataset\n",
    "#import surprise Models\n",
    "from surprise import SVD\n",
    "from surprise import SVDpp\n",
    "from surprise import NMF\n",
    "from surprise import SlopeOne\n",
    "from surprise import KNNBasic\n",
    "from surprise import KNNBaseline\n",
    "from surprise import KNNWithMeans\n",
    "from surprise import KNNWithZScore\n",
    "from surprise import CoClustering\n",
    "from surprise import BaselineOnly\n",
    "from surprise import NormalPredictor\n",
    "\n",
    "#import model evaluation libraries\n",
    "from surprise.model_selection import cross_validate\n",
    "\n",
    "#import Hyperparameter tuning libraries\n",
    "from surprise.model_selection import GridSearchCV\n",
    "\n",
    "#import recommendation system library to predict ratings\n",
    "from reco_utils.recommender.surprise.surprise_utils import predict\n",
    "#import recommendation system library to evaluate predicted ratings\n",
    "from reco_utils.evaluation.python_evaluation import (rmse,mae)\n",
    "#save and load model packages\n",
    "import pickle"
   ]
  },
  {
   "cell_type": "code",
   "execution_count": 158,
   "id": "e1f351e9",
   "metadata": {},
   "outputs": [
    {
     "data": {
      "text/plain": [
       "['.ipynb_checkpoints',\n",
       " 'EDSA Movie Recommendation Predict.ipynb',\n",
       " 'genome_scores.csv',\n",
       " 'genome_tags.csv',\n",
       " 'imdb_data.csv',\n",
       " 'links.csv',\n",
       " 'movies.csv',\n",
       " 'results.xlsx',\n",
       " 'results_BaselineOnly.xlsx',\n",
       " 'results_BaselineOnly_als.xlsx',\n",
       " 'results_BaselineOnly_sgd.xlsx',\n",
       " 'sample_submission.csv',\n",
       " 'SVDpp Rating submission.csv',\n",
       " 'SVDpp.pkl',\n",
       " 'tags.csv',\n",
       " 'test.csv',\n",
       " 'train.csv']"
      ]
     },
     "execution_count": 158,
     "metadata": {},
     "output_type": "execute_result"
    }
   ],
   "source": [
    "#display all files in folder\n",
    "os.listdir()"
   ]
  },
  {
   "cell_type": "markdown",
   "id": "93b50d11",
   "metadata": {},
   "source": [
    "## Import datasets ##"
   ]
  },
  {
   "cell_type": "code",
   "execution_count": 159,
   "id": "5aee0f6e",
   "metadata": {},
   "outputs": [],
   "source": [
    "#load all predict files\n",
    "genome_scores = pd.read_csv('genome_scores.csv')\n",
    "genome_tags = pd.read_csv('genome_tags.csv')\n",
    "imdb_data = pd.read_csv('imdb_data.csv')\n",
    "links = pd.read_csv('links.csv')\n",
    "movies = pd.read_csv('movies.csv')\n",
    "sample_submission = pd.read_csv('sample_submission.csv')\n",
    "tags = pd.read_csv('tags.csv')\n",
    "test = pd.read_csv('test.csv')\n",
    "train = pd.read_csv('train.csv')"
   ]
  },
  {
   "cell_type": "markdown",
   "id": "49deb1fb",
   "metadata": {},
   "source": [
    "## Data cleaning and data preprocessing ##"
   ]
  },
  {
   "cell_type": "code",
   "execution_count": 160,
   "id": "264b65aa",
   "metadata": {},
   "outputs": [
    {
     "name": "stdout",
     "output_type": "stream",
     "text": [
      "genome_scores\n",
      "\n",
      "<class 'pandas.core.frame.DataFrame'>\n",
      "RangeIndex: 15584448 entries, 0 to 15584447\n",
      "Data columns (total 3 columns):\n",
      " #   Column     Dtype  \n",
      "---  ------     -----  \n",
      " 0   movieId    int64  \n",
      " 1   tagId      int64  \n",
      " 2   relevance  float64\n",
      "dtypes: float64(1), int64(2)\n",
      "memory usage: 356.7 MB\n",
      "None\n",
      "\n",
      "Is null?\n",
      "movieId      0\n",
      "tagId        0\n",
      "relevance    0\n",
      "dtype: int64\n",
      "\n",
      "   movieId  tagId  relevance\n",
      "0        1      1    0.02875\n",
      "1        1      2    0.02375\n",
      "\n",
      "            movieId         tagId     relevance\n",
      "count  1.558445e+07  1.558445e+07  1.558445e+07\n",
      "mean   4.602249e+04  5.645000e+02  1.163679e-01\n",
      "std    5.535221e+04  3.256254e+02  1.544722e-01\n",
      "min    1.000000e+00  1.000000e+00  2.500000e-04\n",
      "25%    3.853750e+03  2.827500e+02  2.400000e-02\n",
      "50%    8.575500e+03  5.645000e+02  5.650000e-02\n",
      "75%    8.018650e+04  8.462500e+02  1.407500e-01\n",
      "max    2.064990e+05  1.128000e+03  1.000000e+00\n",
      "\n",
      "\n",
      "------------------------------------------\n",
      "\n",
      "\n",
      "genome_tags\n",
      "\n",
      "<class 'pandas.core.frame.DataFrame'>\n",
      "RangeIndex: 1128 entries, 0 to 1127\n",
      "Data columns (total 2 columns):\n",
      " #   Column  Non-Null Count  Dtype \n",
      "---  ------  --------------  ----- \n",
      " 0   tagId   1128 non-null   int64 \n",
      " 1   tag     1128 non-null   object\n",
      "dtypes: int64(1), object(1)\n",
      "memory usage: 17.8+ KB\n",
      "None\n",
      "\n",
      "Is null?\n",
      "tagId    0\n",
      "tag      0\n",
      "dtype: int64\n",
      "\n",
      "   tagId           tag\n",
      "0      1           007\n",
      "1      2  007 (series)\n",
      "\n",
      "             tagId\n",
      "count  1128.000000\n",
      "mean    564.500000\n",
      "std     325.769857\n",
      "min       1.000000\n",
      "25%     282.750000\n",
      "50%     564.500000\n",
      "75%     846.250000\n",
      "max    1128.000000\n",
      "\n",
      "\n",
      "------------------------------------------\n",
      "\n",
      "\n",
      "imdb_data\n",
      "\n",
      "<class 'pandas.core.frame.DataFrame'>\n",
      "RangeIndex: 27278 entries, 0 to 27277\n",
      "Data columns (total 6 columns):\n",
      " #   Column         Non-Null Count  Dtype  \n",
      "---  ------         --------------  -----  \n",
      " 0   movieId        27278 non-null  int64  \n",
      " 1   title_cast     17210 non-null  object \n",
      " 2   director       17404 non-null  object \n",
      " 3   runtime        15189 non-null  float64\n",
      " 4   budget         7906 non-null   object \n",
      " 5   plot_keywords  16200 non-null  object \n",
      "dtypes: float64(1), int64(1), object(4)\n",
      "memory usage: 1.2+ MB\n",
      "None\n",
      "\n",
      "Is null?\n",
      "movieId              0\n",
      "title_cast       10068\n",
      "director          9874\n",
      "runtime          12089\n",
      "budget           19372\n",
      "plot_keywords    11078\n",
      "dtype: int64\n",
      "\n",
      "   movieId                                         title_cast  \\\n",
      "0        1  Tom Hanks|Tim Allen|Don Rickles|Jim Varney|Wal...   \n",
      "1        2  Robin Williams|Jonathan Hyde|Kirsten Dunst|Bra...   \n",
      "\n",
      "             director  runtime       budget                     plot_keywords  \n",
      "0       John Lasseter     81.0  $30,000,000  toy|rivalry|cowboy|cgi animation  \n",
      "1  Jonathan Hensleigh    104.0  $65,000,000  board game|adventurer|fight|game  \n",
      "\n",
      "             movieId       runtime\n",
      "count   27278.000000  15189.000000\n",
      "mean    59855.480570    100.312331\n",
      "std     44429.314697     31.061707\n",
      "min         1.000000      1.000000\n",
      "25%      6931.250000     89.000000\n",
      "50%     68068.000000     98.000000\n",
      "75%    100293.250000    109.000000\n",
      "max    131262.000000    877.000000\n",
      "\n",
      "\n",
      "------------------------------------------\n",
      "\n",
      "\n",
      "links\n",
      "\n",
      "<class 'pandas.core.frame.DataFrame'>\n",
      "RangeIndex: 62423 entries, 0 to 62422\n",
      "Data columns (total 3 columns):\n",
      " #   Column   Non-Null Count  Dtype  \n",
      "---  ------   --------------  -----  \n",
      " 0   movieId  62423 non-null  int64  \n",
      " 1   imdbId   62423 non-null  int64  \n",
      " 2   tmdbId   62316 non-null  float64\n",
      "dtypes: float64(1), int64(2)\n",
      "memory usage: 1.4 MB\n",
      "None\n",
      "\n",
      "Is null?\n",
      "movieId      0\n",
      "imdbId       0\n",
      "tmdbId     107\n",
      "dtype: int64\n",
      "\n",
      "   movieId  imdbId  tmdbId\n",
      "0        1  114709   862.0\n",
      "1        2  113497  8844.0\n",
      "\n",
      "             movieId        imdbId         tmdbId\n",
      "count   62423.000000  6.242300e+04   62316.000000\n",
      "mean   122220.387646  1.456706e+06  155186.689999\n",
      "std     63264.744844  2.098007e+06  153362.694700\n",
      "min         1.000000  1.000000e+00       2.000000\n",
      "25%     82146.500000  8.168650e+04   36768.750000\n",
      "50%    138022.000000  3.258050e+05   86750.500000\n",
      "75%    173222.000000  2.063724e+06  255255.250000\n",
      "max    209171.000000  1.117094e+07  646282.000000\n",
      "\n",
      "\n",
      "------------------------------------------\n",
      "\n",
      "\n",
      "movies\n",
      "\n",
      "<class 'pandas.core.frame.DataFrame'>\n",
      "RangeIndex: 62423 entries, 0 to 62422\n",
      "Data columns (total 3 columns):\n",
      " #   Column   Non-Null Count  Dtype \n",
      "---  ------   --------------  ----- \n",
      " 0   movieId  62423 non-null  int64 \n",
      " 1   title    62423 non-null  object\n",
      " 2   genres   62423 non-null  object\n",
      "dtypes: int64(1), object(2)\n",
      "memory usage: 1.4+ MB\n",
      "None\n",
      "\n",
      "Is null?\n",
      "movieId    0\n",
      "title      0\n",
      "genres     0\n",
      "dtype: int64\n",
      "\n",
      "   movieId             title                                       genres\n",
      "0        1  Toy Story (1995)  Adventure|Animation|Children|Comedy|Fantasy\n",
      "1        2    Jumanji (1995)                   Adventure|Children|Fantasy\n",
      "\n",
      "             movieId\n",
      "count   62423.000000\n",
      "mean   122220.387646\n",
      "std     63264.744844\n",
      "min         1.000000\n",
      "25%     82146.500000\n",
      "50%    138022.000000\n",
      "75%    173222.000000\n",
      "max    209171.000000\n",
      "\n",
      "\n",
      "------------------------------------------\n",
      "\n",
      "\n",
      "sample_submission\n",
      "\n",
      "<class 'pandas.core.frame.DataFrame'>\n",
      "RangeIndex: 5000019 entries, 0 to 5000018\n",
      "Data columns (total 2 columns):\n",
      " #   Column  Dtype  \n",
      "---  ------  -----  \n",
      " 0   Id      object \n",
      " 1   rating  float64\n",
      "dtypes: float64(1), object(1)\n",
      "memory usage: 76.3+ MB\n",
      "None\n",
      "\n",
      "Is null?\n",
      "Id        0\n",
      "rating    0\n",
      "dtype: int64\n",
      "\n",
      "       Id  rating\n",
      "0  1_2011     1.0\n",
      "1  1_4144     1.0\n",
      "\n",
      "          rating\n",
      "count  5000019.0\n",
      "mean         1.0\n",
      "std          0.0\n",
      "min          1.0\n",
      "25%          1.0\n",
      "50%          1.0\n",
      "75%          1.0\n",
      "max          1.0\n",
      "\n",
      "\n",
      "------------------------------------------\n",
      "\n",
      "\n",
      "tags\n",
      "\n",
      "<class 'pandas.core.frame.DataFrame'>\n",
      "RangeIndex: 1093360 entries, 0 to 1093359\n",
      "Data columns (total 4 columns):\n",
      " #   Column     Non-Null Count    Dtype \n",
      "---  ------     --------------    ----- \n",
      " 0   userId     1093360 non-null  int64 \n",
      " 1   movieId    1093360 non-null  int64 \n",
      " 2   tag        1093344 non-null  object\n",
      " 3   timestamp  1093360 non-null  int64 \n",
      "dtypes: int64(3), object(1)\n",
      "memory usage: 33.4+ MB\n",
      "None\n",
      "\n",
      "Is null?\n",
      "userId        0\n",
      "movieId       0\n",
      "tag          16\n",
      "timestamp     0\n",
      "dtype: int64\n",
      "\n",
      "   userId  movieId      tag   timestamp\n",
      "0       3      260  classic  1439472355\n",
      "1       3      260   sci-fi  1439472256\n",
      "\n",
      "             userId       movieId     timestamp\n",
      "count  1.093360e+06  1.093360e+06  1.093360e+06\n",
      "mean   6.759022e+04  5.849276e+04  1.430115e+09\n",
      "std    5.152114e+04  5.968731e+04  1.177384e+08\n",
      "min    3.000000e+00  1.000000e+00  1.135429e+09\n",
      "25%    1.520400e+04  3.504000e+03  1.339262e+09\n",
      "50%    6.219900e+04  4.594000e+04  1.468929e+09\n",
      "75%    1.136420e+05  1.029030e+05  1.527402e+09\n",
      "max    1.625340e+05  2.090630e+05  1.574317e+09\n",
      "\n",
      "\n",
      "------------------------------------------\n",
      "\n",
      "\n",
      "test\n",
      "\n",
      "<class 'pandas.core.frame.DataFrame'>\n",
      "RangeIndex: 5000019 entries, 0 to 5000018\n",
      "Data columns (total 2 columns):\n",
      " #   Column   Dtype\n",
      "---  ------   -----\n",
      " 0   userId   int64\n",
      " 1   movieId  int64\n",
      "dtypes: int64(2)\n",
      "memory usage: 76.3 MB\n",
      "None\n",
      "\n",
      "Is null?\n",
      "userId     0\n",
      "movieId    0\n",
      "dtype: int64\n",
      "\n",
      "   userId  movieId\n",
      "0       1     2011\n",
      "1       1     4144\n",
      "\n",
      "             userId       movieId\n",
      "count  5.000019e+06  5.000019e+06\n",
      "mean   8.121647e+04  2.136294e+04\n",
      "std    4.679711e+04  3.918389e+04\n",
      "min    1.000000e+00  1.000000e+00\n",
      "25%    4.051850e+04  1.196000e+03\n",
      "50%    8.094800e+04  2.946000e+03\n",
      "75%    1.215990e+05  8.622000e+03\n",
      "max    1.625410e+05  2.091630e+05\n",
      "\n",
      "\n",
      "------------------------------------------\n",
      "\n",
      "\n",
      "train\n",
      "\n",
      "<class 'pandas.core.frame.DataFrame'>\n",
      "RangeIndex: 10000038 entries, 0 to 10000037\n",
      "Data columns (total 4 columns):\n",
      " #   Column     Dtype  \n",
      "---  ------     -----  \n",
      " 0   userId     int64  \n",
      " 1   movieId    int64  \n",
      " 2   rating     float64\n",
      " 3   timestamp  int64  \n",
      "dtypes: float64(1), int64(3)\n",
      "memory usage: 305.2 MB\n",
      "None\n",
      "\n",
      "Is null?\n",
      "userId       0\n",
      "movieId      0\n",
      "rating       0\n",
      "timestamp    0\n",
      "dtype: int64\n",
      "\n",
      "   userId  movieId  rating   timestamp\n",
      "0    5163    57669     4.0  1518349992\n",
      "1  106343        5     4.5  1206238739\n",
      "\n",
      "             userId       movieId        rating     timestamp\n",
      "count  1.000004e+07  1.000004e+07  1.000004e+07  1.000004e+07\n",
      "mean   8.119909e+04  2.138911e+04  3.533395e+00  1.215677e+09\n",
      "std    4.679359e+04  3.919578e+04  1.061124e+00  2.268921e+08\n",
      "min    1.000000e+00  1.000000e+00  5.000000e-01  7.896520e+08\n",
      "25%    4.051000e+04  1.197000e+03  3.000000e+00  1.011742e+09\n",
      "50%    8.091400e+04  2.947000e+03  3.500000e+00  1.199019e+09\n",
      "75%    1.215790e+05  8.630000e+03  4.000000e+00  1.447242e+09\n",
      "max    1.625410e+05  2.091710e+05  5.000000e+00  1.574328e+09\n",
      "\n",
      "\n",
      "------------------------------------------\n",
      "\n",
      "\n"
     ]
    }
   ],
   "source": [
    "#iterate through each file and show info for all datasets, \n",
    "#identify empty cells, display top 2 observations and provide 5 summary statistics for each dataset\n",
    "file_names = ['genome_scores', 'genome_tags', 'imdb_data', 'links', 'movies', 'sample_submission', 'tags', 'test', 'train']\n",
    "files = [genome_scores, genome_tags, imdb_data, links, movies, sample_submission, tags, test, train]\n",
    "for name, file in zip(file_names,files):\n",
    "    print(name)\n",
    "    print(\"\")\n",
    "    print(file.info())\n",
    "    print(\"\")\n",
    "    print(\"Is null?\")\n",
    "    print(file.isnull().sum())\n",
    "    print(\"\")\n",
    "    print(file.head(2))\n",
    "    print(\"\")\n",
    "    print(file.describe())\n",
    "    print(\"\\n\\n------------------------------------------\\n\\n\")"
   ]
  },
  {
   "cell_type": "markdown",
   "id": "757e7acd",
   "metadata": {},
   "source": [
    "***Notes of empty cells and EDA***: \n",
    "\n",
    "**imdb_data empty cells:**\n",
    "\n",
    "title_cast       object, \n",
    "director          object, \n",
    "runtime          float64, \n",
    "budget           object, \n",
    "plot_keywords    object, \n",
    "\n",
    "**Links empty cells:**\n",
    "\n",
    "tmdbId           float\n",
    "\n",
    "**Tags empty cells:**\n",
    "\n",
    "tag object, \n",
    "\n",
    "**train**\n",
    "\n",
    "Look at distibution of rating"
   ]
  },
  {
   "cell_type": "code",
   "execution_count": 161,
   "id": "9cbd45ab",
   "metadata": {},
   "outputs": [],
   "source": [
    "#fill all empty cells of imdb_data with relevant data type\n",
    "imdb_data['title_cast'] = imdb_data['title_cast'].fillna('')\n",
    "imdb_data['director'] = imdb_data['director'].fillna('')\n",
    "imdb_data['runtime'] = imdb_data['runtime'].fillna(0)\n",
    "imdb_data['budget'] = imdb_data['budget'].fillna('')\n",
    "imdb_data['plot_keywords'] = imdb_data['plot_keywords'].fillna('')\n",
    "#fill all empty cells of links with relevant data type\n",
    "links['tmdbId'] = links['tmdbId'].fillna(0)\n",
    "#fill all empty cells of tags with relevant data type\n",
    "tags['tag'] = tags['tag'].fillna('')"
   ]
  },
  {
   "cell_type": "code",
   "execution_count": 162,
   "id": "13919df5",
   "metadata": {},
   "outputs": [
    {
     "data": {
      "text/html": [
       "<div>\n",
       "<style scoped>\n",
       "    .dataframe tbody tr th:only-of-type {\n",
       "        vertical-align: middle;\n",
       "    }\n",
       "\n",
       "    .dataframe tbody tr th {\n",
       "        vertical-align: top;\n",
       "    }\n",
       "\n",
       "    .dataframe thead th {\n",
       "        text-align: right;\n",
       "    }\n",
       "</style>\n",
       "<table border=\"1\" class=\"dataframe\">\n",
       "  <thead>\n",
       "    <tr style=\"text-align: right;\">\n",
       "      <th></th>\n",
       "      <th>movieId</th>\n",
       "      <th>title</th>\n",
       "      <th>genres</th>\n",
       "      <th>year</th>\n",
       "      <th>title_new</th>\n",
       "    </tr>\n",
       "  </thead>\n",
       "  <tbody>\n",
       "    <tr>\n",
       "      <th>0</th>\n",
       "      <td>1</td>\n",
       "      <td>Toy Story (1995)</td>\n",
       "      <td>Adventure Animation Children Comedy Fantasy</td>\n",
       "      <td>1995</td>\n",
       "      <td>Toy Story</td>\n",
       "    </tr>\n",
       "    <tr>\n",
       "      <th>1</th>\n",
       "      <td>2</td>\n",
       "      <td>Jumanji (1995)</td>\n",
       "      <td>Adventure Children Fantasy</td>\n",
       "      <td>1995</td>\n",
       "      <td>Jumanji</td>\n",
       "    </tr>\n",
       "    <tr>\n",
       "      <th>2</th>\n",
       "      <td>3</td>\n",
       "      <td>Grumpier Old Men (1995)</td>\n",
       "      <td>Comedy Romance</td>\n",
       "      <td>1995</td>\n",
       "      <td>Grumpier Old Men</td>\n",
       "    </tr>\n",
       "    <tr>\n",
       "      <th>3</th>\n",
       "      <td>4</td>\n",
       "      <td>Waiting to Exhale (1995)</td>\n",
       "      <td>Comedy Drama Romance</td>\n",
       "      <td>1995</td>\n",
       "      <td>Waiting to Exhale</td>\n",
       "    </tr>\n",
       "    <tr>\n",
       "      <th>4</th>\n",
       "      <td>5</td>\n",
       "      <td>Father of the Bride Part II (1995)</td>\n",
       "      <td>Comedy</td>\n",
       "      <td>1995</td>\n",
       "      <td>Father of the Bride Part II</td>\n",
       "    </tr>\n",
       "  </tbody>\n",
       "</table>\n",
       "</div>"
      ],
      "text/plain": [
       "   movieId                               title  \\\n",
       "0        1                    Toy Story (1995)   \n",
       "1        2                      Jumanji (1995)   \n",
       "2        3             Grumpier Old Men (1995)   \n",
       "3        4            Waiting to Exhale (1995)   \n",
       "4        5  Father of the Bride Part II (1995)   \n",
       "\n",
       "                                        genres  year  \\\n",
       "0  Adventure Animation Children Comedy Fantasy  1995   \n",
       "1                   Adventure Children Fantasy  1995   \n",
       "2                               Comedy Romance  1995   \n",
       "3                         Comedy Drama Romance  1995   \n",
       "4                                       Comedy  1995   \n",
       "\n",
       "                      title_new  \n",
       "0                    Toy Story   \n",
       "1                      Jumanji   \n",
       "2             Grumpier Old Men   \n",
       "3            Waiting to Exhale   \n",
       "4  Father of the Bride Part II   "
      ]
     },
     "execution_count": 162,
     "metadata": {},
     "output_type": "execute_result"
    }
   ],
   "source": [
    "#split all genres\n",
    "movies['genres'] = movies['genres'].apply(lambda x: ' '.join(x.split('|')))\n",
    "#extract the year of all movies from title\n",
    "movies['year'] = movies['title'].apply(lambda x: re.findall(r'\\((.[\\d]+)\\)',x))\n",
    "movies['year'] = movies['year'].str[-1]\n",
    "movies['year'] = movies['year'].fillna(0)\n",
    "movies['year'] = movies['year'].astype('int')\n",
    "#split all titles\n",
    "movies['title_new'] = movies['title'].apply(lambda x: x.split('('))\n",
    "movies['title_new'] = movies['title_new'].apply(lambda x: x[0])\n",
    "movies.head()"
   ]
  },
  {
   "cell_type": "code",
   "execution_count": 163,
   "id": "f106c008",
   "metadata": {},
   "outputs": [],
   "source": [
    "#split all title_cast in imdb_data\n",
    "imdb_data['title_cast'] = imdb_data['title_cast'].apply(lambda x: ' '.join(x.split('|')))\n",
    "#split all plot_keywords in imdb_data\n",
    "imdb_data['plot_keywords'] = imdb_data['plot_keywords'].apply(lambda x: ' '.join(x.split('|')))"
   ]
  },
  {
   "cell_type": "code",
   "execution_count": 164,
   "id": "b6431c77",
   "metadata": {},
   "outputs": [
    {
     "data": {
      "text/html": [
       "<div>\n",
       "<style scoped>\n",
       "    .dataframe tbody tr th:only-of-type {\n",
       "        vertical-align: middle;\n",
       "    }\n",
       "\n",
       "    .dataframe tbody tr th {\n",
       "        vertical-align: top;\n",
       "    }\n",
       "\n",
       "    .dataframe thead th {\n",
       "        text-align: right;\n",
       "    }\n",
       "</style>\n",
       "<table border=\"1\" class=\"dataframe\">\n",
       "  <thead>\n",
       "    <tr style=\"text-align: right;\">\n",
       "      <th></th>\n",
       "      <th>movieId</th>\n",
       "      <th>title_cast</th>\n",
       "      <th>director</th>\n",
       "      <th>runtime</th>\n",
       "      <th>budget</th>\n",
       "      <th>plot_keywords</th>\n",
       "    </tr>\n",
       "  </thead>\n",
       "  <tbody>\n",
       "    <tr>\n",
       "      <th>0</th>\n",
       "      <td>1</td>\n",
       "      <td>Tom Hanks Tim Allen Don Rickles Jim Varney Wal...</td>\n",
       "      <td>John Lasseter</td>\n",
       "      <td>81.0</td>\n",
       "      <td>$30,000,000</td>\n",
       "      <td>toy rivalry cowboy cgi animation</td>\n",
       "    </tr>\n",
       "    <tr>\n",
       "      <th>1</th>\n",
       "      <td>2</td>\n",
       "      <td>Robin Williams Jonathan Hyde Kirsten Dunst Bra...</td>\n",
       "      <td>Jonathan Hensleigh</td>\n",
       "      <td>104.0</td>\n",
       "      <td>$65,000,000</td>\n",
       "      <td>board game adventurer fight game</td>\n",
       "    </tr>\n",
       "    <tr>\n",
       "      <th>2</th>\n",
       "      <td>3</td>\n",
       "      <td>Walter Matthau Jack Lemmon Sophia Loren Ann-Ma...</td>\n",
       "      <td>Mark Steven Johnson</td>\n",
       "      <td>101.0</td>\n",
       "      <td>$25,000,000</td>\n",
       "      <td>boat lake neighbor rivalry</td>\n",
       "    </tr>\n",
       "    <tr>\n",
       "      <th>3</th>\n",
       "      <td>4</td>\n",
       "      <td>Whitney Houston Angela Bassett Loretta Devine ...</td>\n",
       "      <td>Terry McMillan</td>\n",
       "      <td>124.0</td>\n",
       "      <td>$16,000,000</td>\n",
       "      <td>black american husband wife relationship betra...</td>\n",
       "    </tr>\n",
       "    <tr>\n",
       "      <th>4</th>\n",
       "      <td>5</td>\n",
       "      <td>Steve Martin Diane Keaton Martin Short Kimberl...</td>\n",
       "      <td>Albert Hackett</td>\n",
       "      <td>106.0</td>\n",
       "      <td>$30,000,000</td>\n",
       "      <td>fatherhood doberman dog mansion</td>\n",
       "    </tr>\n",
       "  </tbody>\n",
       "</table>\n",
       "</div>"
      ],
      "text/plain": [
       "   movieId                                         title_cast  \\\n",
       "0        1  Tom Hanks Tim Allen Don Rickles Jim Varney Wal...   \n",
       "1        2  Robin Williams Jonathan Hyde Kirsten Dunst Bra...   \n",
       "2        3  Walter Matthau Jack Lemmon Sophia Loren Ann-Ma...   \n",
       "3        4  Whitney Houston Angela Bassett Loretta Devine ...   \n",
       "4        5  Steve Martin Diane Keaton Martin Short Kimberl...   \n",
       "\n",
       "              director  runtime       budget  \\\n",
       "0        John Lasseter     81.0  $30,000,000   \n",
       "1   Jonathan Hensleigh    104.0  $65,000,000   \n",
       "2  Mark Steven Johnson    101.0  $25,000,000   \n",
       "3       Terry McMillan    124.0  $16,000,000   \n",
       "4       Albert Hackett    106.0  $30,000,000   \n",
       "\n",
       "                                       plot_keywords  \n",
       "0                   toy rivalry cowboy cgi animation  \n",
       "1                   board game adventurer fight game  \n",
       "2                         boat lake neighbor rivalry  \n",
       "3  black american husband wife relationship betra...  \n",
       "4                    fatherhood doberman dog mansion  "
      ]
     },
     "execution_count": 164,
     "metadata": {},
     "output_type": "execute_result"
    }
   ],
   "source": [
    "#confirm data cleaned\n",
    "imdb_data.head()"
   ]
  },
  {
   "cell_type": "markdown",
   "id": "62f597e5",
   "metadata": {},
   "source": [
    "## EDA: Exploratory Data Analysis ##"
   ]
  },
  {
   "cell_type": "code",
   "execution_count": 165,
   "id": "34e2292f",
   "metadata": {},
   "outputs": [
    {
     "name": "stdout",
     "output_type": "stream",
     "text": [
      "(10000038, 13)\n"
     ]
    }
   ],
   "source": [
    "#create copy of training data for merge\n",
    "merged_df = train.copy()\n",
    "#merge movies dataframe to training dataframe\n",
    "merged_df = merged_df.merge(movies, how='left', on='movieId')\n",
    "#merge movies dataframe to training dataframe\n",
    "merged_df = merged_df.merge(imdb_data, how='left', on='movieId')\n",
    "\n",
    "#confirm number of columns and rows\n",
    "print(merged_df.shape)"
   ]
  },
  {
   "cell_type": "code",
   "execution_count": 166,
   "id": "846e4eb4",
   "metadata": {},
   "outputs": [
    {
     "data": {
      "text/html": [
       "<div>\n",
       "<style scoped>\n",
       "    .dataframe tbody tr th:only-of-type {\n",
       "        vertical-align: middle;\n",
       "    }\n",
       "\n",
       "    .dataframe tbody tr th {\n",
       "        vertical-align: top;\n",
       "    }\n",
       "\n",
       "    .dataframe thead th {\n",
       "        text-align: right;\n",
       "    }\n",
       "</style>\n",
       "<table border=\"1\" class=\"dataframe\">\n",
       "  <thead>\n",
       "    <tr style=\"text-align: right;\">\n",
       "      <th></th>\n",
       "      <th>userId</th>\n",
       "      <th>movieId</th>\n",
       "      <th>rating</th>\n",
       "      <th>timestamp</th>\n",
       "      <th>title</th>\n",
       "      <th>genres</th>\n",
       "      <th>year</th>\n",
       "      <th>title_new</th>\n",
       "      <th>title_cast</th>\n",
       "      <th>director</th>\n",
       "      <th>runtime</th>\n",
       "      <th>budget</th>\n",
       "      <th>plot_keywords</th>\n",
       "    </tr>\n",
       "  </thead>\n",
       "  <tbody>\n",
       "    <tr>\n",
       "      <th>0</th>\n",
       "      <td>5163</td>\n",
       "      <td>57669</td>\n",
       "      <td>4.0</td>\n",
       "      <td>1518349992</td>\n",
       "      <td>In Bruges (2008)</td>\n",
       "      <td>Comedy Crime Drama Thriller</td>\n",
       "      <td>2008</td>\n",
       "      <td>In Bruges</td>\n",
       "      <td>Elizabeth Berrington Rudy Blomme Olivier Bonjo...</td>\n",
       "      <td>Martin McDonagh</td>\n",
       "      <td>107.0</td>\n",
       "      <td>$15,000,000</td>\n",
       "      <td>dwarf bruges irish hitman</td>\n",
       "    </tr>\n",
       "    <tr>\n",
       "      <th>1</th>\n",
       "      <td>106343</td>\n",
       "      <td>5</td>\n",
       "      <td>4.5</td>\n",
       "      <td>1206238739</td>\n",
       "      <td>Father of the Bride Part II (1995)</td>\n",
       "      <td>Comedy</td>\n",
       "      <td>1995</td>\n",
       "      <td>Father of the Bride Part II</td>\n",
       "      <td>Steve Martin Diane Keaton Martin Short Kimberl...</td>\n",
       "      <td>Albert Hackett</td>\n",
       "      <td>106.0</td>\n",
       "      <td>$30,000,000</td>\n",
       "      <td>fatherhood doberman dog mansion</td>\n",
       "    </tr>\n",
       "    <tr>\n",
       "      <th>2</th>\n",
       "      <td>146790</td>\n",
       "      <td>5459</td>\n",
       "      <td>5.0</td>\n",
       "      <td>1076215539</td>\n",
       "      <td>Men in Black II (a.k.a. MIIB) (a.k.a. MIB 2) (...</td>\n",
       "      <td>Action Comedy Sci-Fi</td>\n",
       "      <td>2002</td>\n",
       "      <td>Men in Black II</td>\n",
       "      <td>Tommy Lee Jones Will Smith Rip Torn Lara Flynn...</td>\n",
       "      <td>Lowell Cunningham</td>\n",
       "      <td>88.0</td>\n",
       "      <td>$140,000,000</td>\n",
       "      <td>lingerie michael jackson character shorthaired...</td>\n",
       "    </tr>\n",
       "    <tr>\n",
       "      <th>3</th>\n",
       "      <td>106362</td>\n",
       "      <td>32296</td>\n",
       "      <td>2.0</td>\n",
       "      <td>1423042565</td>\n",
       "      <td>Miss Congeniality 2: Armed and Fabulous (2005)</td>\n",
       "      <td>Adventure Comedy Crime</td>\n",
       "      <td>2005</td>\n",
       "      <td>Miss Congeniality 2: Armed and Fabulous</td>\n",
       "      <td>Sandra Bullock Regina King Enrique Murciano Wi...</td>\n",
       "      <td>Marc Lawrence</td>\n",
       "      <td>115.0</td>\n",
       "      <td>$45,000,000</td>\n",
       "      <td>female protagonist cleave gag good woman fbi</td>\n",
       "    </tr>\n",
       "    <tr>\n",
       "      <th>4</th>\n",
       "      <td>9041</td>\n",
       "      <td>366</td>\n",
       "      <td>3.0</td>\n",
       "      <td>833375837</td>\n",
       "      <td>Wes Craven's New Nightmare (Nightmare on Elm S...</td>\n",
       "      <td>Drama Horror Mystery Thriller</td>\n",
       "      <td>1994</td>\n",
       "      <td>Wes Craven's New Nightmare</td>\n",
       "      <td>Jeff Davis Heather Langenkamp Miko Hughes Matt...</td>\n",
       "      <td>Wes Craven</td>\n",
       "      <td>112.0</td>\n",
       "      <td>$8,000,000</td>\n",
       "      <td>freddy krueger elm street famous director as h...</td>\n",
       "    </tr>\n",
       "  </tbody>\n",
       "</table>\n",
       "</div>"
      ],
      "text/plain": [
       "   userId  movieId  rating   timestamp  \\\n",
       "0    5163    57669     4.0  1518349992   \n",
       "1  106343        5     4.5  1206238739   \n",
       "2  146790     5459     5.0  1076215539   \n",
       "3  106362    32296     2.0  1423042565   \n",
       "4    9041      366     3.0   833375837   \n",
       "\n",
       "                                               title  \\\n",
       "0                                   In Bruges (2008)   \n",
       "1                 Father of the Bride Part II (1995)   \n",
       "2  Men in Black II (a.k.a. MIIB) (a.k.a. MIB 2) (...   \n",
       "3     Miss Congeniality 2: Armed and Fabulous (2005)   \n",
       "4  Wes Craven's New Nightmare (Nightmare on Elm S...   \n",
       "\n",
       "                          genres  year  \\\n",
       "0    Comedy Crime Drama Thriller  2008   \n",
       "1                         Comedy  1995   \n",
       "2           Action Comedy Sci-Fi  2002   \n",
       "3         Adventure Comedy Crime  2005   \n",
       "4  Drama Horror Mystery Thriller  1994   \n",
       "\n",
       "                                  title_new  \\\n",
       "0                                In Bruges    \n",
       "1              Father of the Bride Part II    \n",
       "2                          Men in Black II    \n",
       "3  Miss Congeniality 2: Armed and Fabulous    \n",
       "4               Wes Craven's New Nightmare    \n",
       "\n",
       "                                          title_cast           director  \\\n",
       "0  Elizabeth Berrington Rudy Blomme Olivier Bonjo...    Martin McDonagh   \n",
       "1  Steve Martin Diane Keaton Martin Short Kimberl...     Albert Hackett   \n",
       "2  Tommy Lee Jones Will Smith Rip Torn Lara Flynn...  Lowell Cunningham   \n",
       "3  Sandra Bullock Regina King Enrique Murciano Wi...      Marc Lawrence   \n",
       "4  Jeff Davis Heather Langenkamp Miko Hughes Matt...         Wes Craven   \n",
       "\n",
       "   runtime        budget                                      plot_keywords  \n",
       "0    107.0   $15,000,000                          dwarf bruges irish hitman  \n",
       "1    106.0   $30,000,000                    fatherhood doberman dog mansion  \n",
       "2     88.0  $140,000,000  lingerie michael jackson character shorthaired...  \n",
       "3    115.0   $45,000,000       female protagonist cleave gag good woman fbi  \n",
       "4    112.0    $8,000,000  freddy krueger elm street famous director as h...  "
      ]
     },
     "execution_count": 166,
     "metadata": {},
     "output_type": "execute_result"
    }
   ],
   "source": [
    "#view first 5 rows of train data\n",
    "merged_df.head()"
   ]
  },
  {
   "cell_type": "code",
   "execution_count": 167,
   "id": "6bd69b71",
   "metadata": {},
   "outputs": [
    {
     "name": "stdout",
     "output_type": "stream",
     "text": [
      "<class 'pandas.core.frame.DataFrame'>\n",
      "Int64Index: 10000038 entries, 0 to 10000037\n",
      "Data columns (total 13 columns):\n",
      " #   Column         Dtype  \n",
      "---  ------         -----  \n",
      " 0   userId         int64  \n",
      " 1   movieId        int64  \n",
      " 2   rating         float64\n",
      " 3   timestamp      int64  \n",
      " 4   title          object \n",
      " 5   genres         object \n",
      " 6   year           int32  \n",
      " 7   title_new      object \n",
      " 8   title_cast     object \n",
      " 9   director       object \n",
      " 10  runtime        float64\n",
      " 11  budget         object \n",
      " 12  plot_keywords  object \n",
      "dtypes: float64(2), int32(1), int64(3), object(7)\n",
      "memory usage: 1.0+ GB\n"
     ]
    }
   ],
   "source": [
    "#confirm merged data datatypes\n",
    "merged_df.info()"
   ]
  },
  {
   "cell_type": "code",
   "execution_count": 168,
   "id": "bf30cbae",
   "metadata": {},
   "outputs": [
    {
     "name": "stdout",
     "output_type": "stream",
     "text": [
      "             rating     timestamp          year       runtime\n",
      "count  1.000004e+07  1.000004e+07  1.000004e+07  9.633031e+06\n",
      "mean   3.533395e+00  1.215677e+09  1.993346e+03  8.412204e+01\n",
      "std    1.061124e+00  2.268921e+08  4.596961e+01  5.577055e+01\n",
      "min    5.000000e-01  7.896520e+08  0.000000e+00  0.000000e+00\n",
      "25%    3.000000e+00  1.011742e+09  1.990000e+03  0.000000e+00\n",
      "50%    3.500000e+00  1.199019e+09  1.997000e+03  1.030000e+02\n",
      "75%    4.000000e+00  1.447242e+09  2.003000e+03  1.220000e+02\n",
      "max    5.000000e+00  1.574328e+09  2.019000e+03  8.770000e+02\n"
     ]
    }
   ],
   "source": [
    "#confirm descriptive statistics numeric columns\n",
    "print(merged_df[['rating','timestamp','year','runtime']].describe())"
   ]
  },
  {
   "cell_type": "code",
   "execution_count": 169,
   "id": "2db4fdda",
   "metadata": {},
   "outputs": [
    {
     "name": "stderr",
     "output_type": "stream",
     "text": [
      "C:\\Users\\jeanj\\Anaconda3\\lib\\site-packages\\seaborn\\_decorators.py:36: FutureWarning: Pass the following variable as a keyword arg: x. From version 0.12, the only valid positional argument will be `data`, and passing other arguments without an explicit keyword will result in an error or misinterpretation.\n",
      "  warnings.warn(\n"
     ]
    },
    {
     "data": {
      "text/plain": [
       "<AxesSubplot:xlabel='rating', ylabel='count'>"
      ]
     },
     "execution_count": 169,
     "metadata": {},
     "output_type": "execute_result"
    },
    {
     "data": {
      "image/png": "[encoded data removed]",
      "text/plain": [
       "<Figure size 640x480 with 1 Axes>"
      ]
     },
     "metadata": {},
     "output_type": "display_data"
    }
   ],
   "source": [
    "#rating distribution\n",
    "sns.countplot(merged_df['rating'])"
   ]
  },
  {
   "cell_type": "code",
   "execution_count": 170,
   "id": "5248ff76",
   "metadata": {},
   "outputs": [
    {
     "data": {
      "text/plain": [
       "<AxesSubplot:xlabel='count', ylabel='year'>"
      ]
     },
     "execution_count": 170,
     "metadata": {},
     "output_type": "execute_result"
    },
    {
     "data": {
      "image/png": "[encoded data removed]",
      "text/plain": [
       "<Figure size 1000x2000 with 1 Axes>"
      ]
     },
     "metadata": {},
     "output_type": "display_data"
    }
   ],
   "source": [
    "#year distribution\n",
    "fig , ax = plt.subplots(figsize=(10,20))\n",
    "sns.countplot(y=merged_df['year'])"
   ]
  },
  {
   "cell_type": "code",
   "execution_count": 171,
   "id": "f3fb7773",
   "metadata": {},
   "outputs": [
    {
     "data": {
      "text/plain": [
       "                      2602688\n",
       "Quentin Tarantino      109919\n",
       "Michael Crichton        65157\n",
       "J.R.R. Tolkien          62963\n",
       "Lilly Wachowski         60988\n",
       "Stephen King            59903\n",
       "Ethan Coen              51185\n",
       "James Cameron           51178\n",
       "Luc Besson              44015\n",
       "Jonathan Nolan          42645\n",
       "Thomas Harris           36425\n",
       "M. Night Shyamalan      35567\n",
       "Steven Spielberg        35236\n",
       "Dean Devlin             35157\n",
       "Bob Kane                35129\n",
       "Jonathan Hensleigh      33106\n",
       "Andrew Niccol           32868\n",
       "Christopher Nolan       32633\n",
       "Winston Groom           32383\n",
       "Kevin Smith             32075\n",
       "Name: director, dtype: int64"
      ]
     },
     "execution_count": 171,
     "metadata": {},
     "output_type": "execute_result"
    }
   ],
   "source": [
    "#Most votes per director Top 20\n",
    "directors = merged_df['director'].value_counts()\n",
    "directors[:20]"
   ]
  },
  {
   "cell_type": "code",
   "execution_count": 172,
   "id": "00e49bdb",
   "metadata": {},
   "outputs": [
    {
     "data": {
      "image/png": "[encoded data removed]",
      "text/plain": [
       "<Figure size 640x480 with 1 Axes>"
      ]
     },
     "metadata": {},
     "output_type": "display_data"
    }
   ],
   "source": [
    "#runtime distribution\n",
    "plt.hist(merged_df['runtime'],density=True,orientation='vertical', bins=np.linspace(0,200,30))\n",
    "plt.show()"
   ]
  },
  {
   "cell_type": "code",
   "execution_count": 173,
   "id": "18ca815c",
   "metadata": {},
   "outputs": [
    {
     "data": {
      "text/plain": [
       "Shawshank Redemption, The                              32831\n",
       "Forrest Gump                                           32383\n",
       "Pulp Fiction                                           31697\n",
       "Silence of the Lambs, The                              29444\n",
       "Matrix, The                                            29014\n",
       "Star Wars: Episode IV - A New Hope                     27560\n",
       "Jurassic Park                                          25518\n",
       "Schindler's List                                       24004\n",
       "Braveheart                                             23722\n",
       "Fight Club                                             23536\n",
       "Terminator 2: Judgment Day                             23075\n",
       "Toy Story                                              23062\n",
       "Star Wars: Episode V - The Empire Strikes Back         22956\n",
       "Lord of the Rings: The Fellowship of the Ring, The     22216\n",
       "Usual Suspects, The                                    22032\n",
       "Raiders of the Lost Ark                                21982\n",
       "Star Wars: Episode VI - Return of the Jedi             21909\n",
       "American Beauty                                        21644\n",
       "Godfather, The                                         20960\n",
       "Lord of the Rings: The Return of the King, The         20430\n",
       "Name: title_new, dtype: int64"
      ]
     },
     "execution_count": 173,
     "metadata": {},
     "output_type": "execute_result"
    }
   ],
   "source": [
    "#Most rated movies\n",
    "movies_rate_count = merged_df['title_new'].value_counts()\n",
    "movies_rate_count[:20]"
   ]
  },
  {
   "cell_type": "code",
   "execution_count": 174,
   "id": "0f0aa46b",
   "metadata": {},
   "outputs": [
    {
     "data": {
      "text/html": [
       "<div>\n",
       "<style scoped>\n",
       "    .dataframe tbody tr th:only-of-type {\n",
       "        vertical-align: middle;\n",
       "    }\n",
       "\n",
       "    .dataframe tbody tr th {\n",
       "        vertical-align: top;\n",
       "    }\n",
       "\n",
       "    .dataframe thead th {\n",
       "        text-align: right;\n",
       "    }\n",
       "</style>\n",
       "<table border=\"1\" class=\"dataframe\">\n",
       "  <thead>\n",
       "    <tr style=\"text-align: right;\">\n",
       "      <th></th>\n",
       "      <th>userId</th>\n",
       "      <th>movieId</th>\n",
       "      <th>rating</th>\n",
       "      <th>timestamp</th>\n",
       "    </tr>\n",
       "  </thead>\n",
       "  <tbody>\n",
       "    <tr>\n",
       "      <th>0</th>\n",
       "      <td>5163</td>\n",
       "      <td>57669</td>\n",
       "      <td>4.0</td>\n",
       "      <td>1518349992</td>\n",
       "    </tr>\n",
       "    <tr>\n",
       "      <th>1</th>\n",
       "      <td>106343</td>\n",
       "      <td>5</td>\n",
       "      <td>4.5</td>\n",
       "      <td>1206238739</td>\n",
       "    </tr>\n",
       "    <tr>\n",
       "      <th>2</th>\n",
       "      <td>146790</td>\n",
       "      <td>5459</td>\n",
       "      <td>5.0</td>\n",
       "      <td>1076215539</td>\n",
       "    </tr>\n",
       "    <tr>\n",
       "      <th>3</th>\n",
       "      <td>106362</td>\n",
       "      <td>32296</td>\n",
       "      <td>2.0</td>\n",
       "      <td>1423042565</td>\n",
       "    </tr>\n",
       "    <tr>\n",
       "      <th>4</th>\n",
       "      <td>9041</td>\n",
       "      <td>366</td>\n",
       "      <td>3.0</td>\n",
       "      <td>833375837</td>\n",
       "    </tr>\n",
       "  </tbody>\n",
       "</table>\n",
       "</div>"
      ],
      "text/plain": [
       "   userId  movieId  rating   timestamp\n",
       "0    5163    57669     4.0  1518349992\n",
       "1  106343        5     4.5  1206238739\n",
       "2  146790     5459     5.0  1076215539\n",
       "3  106362    32296     2.0  1423042565\n",
       "4    9041      366     3.0   833375837"
      ]
     },
     "execution_count": 174,
     "metadata": {},
     "output_type": "execute_result"
    }
   ],
   "source": [
    "#display training data sample data\n",
    "train.head()"
   ]
  },
  {
   "cell_type": "code",
   "execution_count": 175,
   "id": "067ff3ac",
   "metadata": {},
   "outputs": [
    {
     "name": "stdout",
     "output_type": "stream",
     "text": [
      "Amount of data rows: 10000038\n",
      "Amount of data columns: 4\n"
     ]
    }
   ],
   "source": [
    "#identify training data columns and row amounts\n",
    "print(fr'Amount of data rows: {train.shape[0]}')\n",
    "print(fr'Amount of data columns: {train.shape[1]}')"
   ]
  },
  {
   "cell_type": "code",
   "execution_count": 176,
   "id": "2d929d74",
   "metadata": {},
   "outputs": [
    {
     "name": "stdout",
     "output_type": "stream",
     "text": [
      "Amount of users voted in training dataset: 162541\n"
     ]
    }
   ],
   "source": [
    "#total unique users\n",
    "print(fr\"Amount of users voted in training dataset: {train['userId'].nunique()}\")"
   ]
  },
  {
   "cell_type": "code",
   "execution_count": 177,
   "id": "ebf55320",
   "metadata": {},
   "outputs": [
    {
     "name": "stdout",
     "output_type": "stream",
     "text": [
      "Amount of movies in training dataset: 48213\n"
     ]
    }
   ],
   "source": [
    "#total unique movies in training data set\n",
    "print(fr\"Amount of movies in training dataset: {train['movieId'].nunique()}\")"
   ]
  },
  {
   "cell_type": "code",
   "execution_count": 178,
   "id": "ed9551ae",
   "metadata": {},
   "outputs": [
    {
     "data": {
      "text/plain": [
       "<AxesSubplot:xlabel='rating', ylabel='count'>"
      ]
     },
     "execution_count": 178,
     "metadata": {},
     "output_type": "execute_result"
    },
    {
     "data": {
      "image/png": "[encoded data removed]",
      "text/plain": [
       "<Figure size 640x480 with 1 Axes>"
      ]
     },
     "metadata": {},
     "output_type": "display_data"
    }
   ],
   "source": [
    "#display rating distribution for training dataset\n",
    "sns.countplot(x=train['rating'])"
   ]
  },
  {
   "cell_type": "code",
   "execution_count": 179,
   "id": "13a27115",
   "metadata": {},
   "outputs": [
    {
     "data": {
      "text/plain": [
       "<AxesSubplot:>"
      ]
     },
     "execution_count": 179,
     "metadata": {},
     "output_type": "execute_result"
    },
    {
     "data": {
      "image/png": "[encoded data removed]",
      "text/plain": [
       "<Figure size 640x480 with 1 Axes>"
      ]
     },
     "metadata": {},
     "output_type": "display_data"
    }
   ],
   "source": [
    "#identify outliers in dataset\n",
    "sns.boxplot(y=train['userId'].value_counts().values)"
   ]
  },
  {
   "cell_type": "code",
   "execution_count": 180,
   "id": "83dce80e",
   "metadata": {},
   "outputs": [
    {
     "data": {
      "text/plain": [
       "count    162541.000000\n",
       "mean         61.523173\n",
       "std         107.410889\n",
       "min           1.000000\n",
       "25%          14.000000\n",
       "50%          28.000000\n",
       "75%          65.000000\n",
       "max       12952.000000\n",
       "Name: userId, dtype: float64"
      ]
     },
     "execution_count": 180,
     "metadata": {},
     "output_type": "execute_result"
    }
   ],
   "source": [
    "#descriptive statistics of user vote count\n",
    "train['userId'].value_counts().describe()"
   ]
  },
  {
   "cell_type": "code",
   "execution_count": 181,
   "id": "38f6f236",
   "metadata": {},
   "outputs": [
    {
     "data": {
      "text/plain": [
       "72315     12952\n",
       "80974      3680\n",
       "137293     3588\n",
       "33844      3208\n",
       "20055      3050\n",
       "          ...  \n",
       "127098        1\n",
       "121071        1\n",
       "55362         1\n",
       "105714        1\n",
       "79087         1\n",
       "Name: userId, Length: 162541, dtype: int64"
      ]
     },
     "execution_count": 181,
     "metadata": {},
     "output_type": "execute_result"
    }
   ],
   "source": [
    "#display amount of votes per user descending order (display highest amount of votes)\n",
    "train['userId'].value_counts()"
   ]
  },
  {
   "cell_type": "code",
   "execution_count": 182,
   "id": "8ccadbac",
   "metadata": {},
   "outputs": [
    {
     "name": "stdout",
     "output_type": "stream",
     "text": [
      "Outlying user information \n",
      "\n",
      "userId:72315 VoteCount:12952\n"
     ]
    }
   ],
   "source": [
    "#assign outlier user vote amount to variable\n",
    "outlying_user = train['userId'].value_counts()\n",
    "print(f'Outlying user information \\n\\nuserId:{outlying_user.index[0]} VoteCount:{outlying_user.iloc[0]}')"
   ]
  },
  {
   "cell_type": "code",
   "execution_count": 183,
   "id": "b24d1869",
   "metadata": {},
   "outputs": [
    {
     "name": "stdout",
     "output_type": "stream",
     "text": [
      "(9987086, 4)\n",
      "   userId  movieId  rating   timestamp\n",
      "0    5163    57669     4.0  1518349992\n",
      "1  106343        5     4.5  1206238739\n",
      "2  146790     5459     5.0  1076215539\n",
      "3  106362    32296     2.0  1423042565\n",
      "4    9041      366     3.0   833375837\n"
     ]
    }
   ],
   "source": [
    "#assign total count of votes per user to variable\n",
    "count_user_vote = train['userId'].value_counts()\n",
    "#remove index from series\n",
    "count_user_vote = count_user_vote.reset_index()\n",
    "#rename count_user_vote columns\n",
    "count_user_vote.columns = ['userId','VoteCount']\n",
    "#filter and list all users lower than outlier user\n",
    "count_user_vote = count_user_vote[count_user_vote['VoteCount']<12952]\n",
    "count_user_vote = list(count_user_vote['userId'])\n",
    "#create new training dataset excluding the outlier user\n",
    "train = train[train['userId'].isin(count_user_vote)]\n",
    "print(train.shape)\n",
    "print(train.head())"
   ]
  },
  {
   "cell_type": "markdown",
   "id": "05dc633f",
   "metadata": {},
   "source": [
    "## Model building and comparison ##\n",
    "\n",
    "**Models to test**\n",
    "\n",
    "1. SVD\n",
    "2. SVDpp\n",
    "3. NMF\n",
    "4. SlopeOne\n",
    "5. KNNBasic\n",
    "6. KNNBaseline\n",
    "7. KNNWithMeans\n",
    "8. KNNWithZScore\n",
    "9. CoClustering\n",
    "10. BaselineOnly\n",
    "11. NormalPredictor"
   ]
  },
  {
   "cell_type": "code",
   "execution_count": 184,
   "id": "be7458e2",
   "metadata": {},
   "outputs": [
    {
     "data": {
      "text/html": [
       "<div>\n",
       "<style scoped>\n",
       "    .dataframe tbody tr th:only-of-type {\n",
       "        vertical-align: middle;\n",
       "    }\n",
       "\n",
       "    .dataframe tbody tr th {\n",
       "        vertical-align: top;\n",
       "    }\n",
       "\n",
       "    .dataframe thead th {\n",
       "        text-align: right;\n",
       "    }\n",
       "</style>\n",
       "<table border=\"1\" class=\"dataframe\">\n",
       "  <thead>\n",
       "    <tr style=\"text-align: right;\">\n",
       "      <th></th>\n",
       "      <th>userId</th>\n",
       "      <th>movieId</th>\n",
       "      <th>rating</th>\n",
       "    </tr>\n",
       "  </thead>\n",
       "  <tbody>\n",
       "    <tr>\n",
       "      <th>0</th>\n",
       "      <td>5163</td>\n",
       "      <td>57669</td>\n",
       "      <td>4.0</td>\n",
       "    </tr>\n",
       "    <tr>\n",
       "      <th>1</th>\n",
       "      <td>106343</td>\n",
       "      <td>5</td>\n",
       "      <td>4.5</td>\n",
       "    </tr>\n",
       "    <tr>\n",
       "      <th>2</th>\n",
       "      <td>146790</td>\n",
       "      <td>5459</td>\n",
       "      <td>5.0</td>\n",
       "    </tr>\n",
       "    <tr>\n",
       "      <th>3</th>\n",
       "      <td>106362</td>\n",
       "      <td>32296</td>\n",
       "      <td>2.0</td>\n",
       "    </tr>\n",
       "    <tr>\n",
       "      <th>4</th>\n",
       "      <td>9041</td>\n",
       "      <td>366</td>\n",
       "      <td>3.0</td>\n",
       "    </tr>\n",
       "    <tr>\n",
       "      <th>...</th>\n",
       "      <td>...</td>\n",
       "      <td>...</td>\n",
       "      <td>...</td>\n",
       "    </tr>\n",
       "    <tr>\n",
       "      <th>10000033</th>\n",
       "      <td>136395</td>\n",
       "      <td>99114</td>\n",
       "      <td>5.0</td>\n",
       "    </tr>\n",
       "    <tr>\n",
       "      <th>10000034</th>\n",
       "      <td>140078</td>\n",
       "      <td>553</td>\n",
       "      <td>3.0</td>\n",
       "    </tr>\n",
       "    <tr>\n",
       "      <th>10000035</th>\n",
       "      <td>154807</td>\n",
       "      <td>56782</td>\n",
       "      <td>4.0</td>\n",
       "    </tr>\n",
       "    <tr>\n",
       "      <th>10000036</th>\n",
       "      <td>85805</td>\n",
       "      <td>327</td>\n",
       "      <td>4.0</td>\n",
       "    </tr>\n",
       "    <tr>\n",
       "      <th>10000037</th>\n",
       "      <td>139457</td>\n",
       "      <td>1009</td>\n",
       "      <td>4.0</td>\n",
       "    </tr>\n",
       "  </tbody>\n",
       "</table>\n",
       "<p>9987086 rows × 3 columns</p>\n",
       "</div>"
      ],
      "text/plain": [
       "          userId  movieId  rating\n",
       "0           5163    57669     4.0\n",
       "1         106343        5     4.5\n",
       "2         146790     5459     5.0\n",
       "3         106362    32296     2.0\n",
       "4           9041      366     3.0\n",
       "...          ...      ...     ...\n",
       "10000033  136395    99114     5.0\n",
       "10000034  140078      553     3.0\n",
       "10000035  154807    56782     4.0\n",
       "10000036   85805      327     4.0\n",
       "10000037  139457     1009     4.0\n",
       "\n",
       "[9987086 rows x 3 columns]"
      ]
     },
     "execution_count": 184,
     "metadata": {},
     "output_type": "execute_result"
    }
   ],
   "source": [
    "#create copy of train dataset and remove timestamp column\n",
    "model_data = train.drop(['timestamp'],axis=1)\n",
    "model_data"
   ]
  },
  {
   "cell_type": "code",
   "execution_count": 185,
   "id": "f6824d34",
   "metadata": {},
   "outputs": [
    {
     "data": {
      "text/plain": [
       "userId     0\n",
       "movieId    0\n",
       "rating     0\n",
       "dtype: int64"
      ]
     },
     "execution_count": 185,
     "metadata": {},
     "output_type": "execute_result"
    }
   ],
   "source": [
    "#check for empty cells in training data\n",
    "model_data.isnull().sum()"
   ]
  },
  {
   "cell_type": "markdown",
   "id": "1dc48e1c",
   "metadata": {},
   "source": [
    "**All models excluding KNN models**\n",
    "\n",
    "KNN models took to long to fit"
   ]
  },
  {
   "cell_type": "code",
   "execution_count": 61,
   "id": "7e9349aa",
   "metadata": {},
   "outputs": [
    {
     "name": "stdout",
     "output_type": "stream",
     "text": [
      "Model completed: SVD\n",
      "Model completed: SVDpp\n",
      "Model completed: NMF\n",
      "Model completed: SlopeOne\n",
      "Model completed: CoClustering\n",
      "Estimating biases using als...\n",
      "Estimating biases using als...\n",
      "Estimating biases using als...\n",
      "Model completed: BaselineOnly\n",
      "Model completed: NormalPredictor\n",
      "                 test_rmse   fit_time  test_time\n",
      "model                                           \n",
      "BaselineOnly      0.915912   3.527174   3.644971\n",
      "SVDpp             0.916778  18.027840  11.053222\n",
      "SVD               0.921740   8.928425   5.808890\n",
      "CoClustering      1.029270  27.814526   3.908630\n",
      "NMF               1.043548  18.623207   3.714634\n",
      "SlopeOne          1.075998   9.042431   9.694093\n",
      "NormalPredictor   1.447979   1.144964   2.452809\n"
     ]
    }
   ],
   "source": [
    "#parse training data and identify minimum and maximum rating\n",
    "reader = Reader(rating_scale=(min(model_data['rating']),max(model_data['rating'])))\n",
    "#load data from DataFrame\n",
    "model_train = Dataset.load_from_df(model_data.sample(frac=0.10,random_state=42),reader)\n",
    "#empty list to capture model results\n",
    "results = []\n",
    "#model names for iteration\n",
    "model_names = ['SVD',\n",
    "               'SVDpp','NMF',\n",
    "               'SlopeOne','CoClustering',\n",
    "               'BaselineOnly','NormalPredictor']\n",
    "#model instances for iteration\n",
    "model_instances = [SVD(),\n",
    "                   SVDpp(),NMF(),\n",
    "                   SlopeOne(),CoClustering(),\n",
    "                   BaselineOnly(),NormalPredictor()]\n",
    "#iteration of model name and instances to calculate RMSE for model through cross validation\n",
    "for name, model in zip(model_names, model_instances):\n",
    "    result = cross_validate(model, model_train, measures=['RMSE'],cv=3,verbose=False)\n",
    "    result_prep = pd.DataFrame(result).mean(axis=0)\n",
    "    result_prep['model'] = name\n",
    "    results.append(result_prep)\n",
    "    print(fr\"Model completed: {name}\")\n",
    "#display results from sorting by best test_rmse  \n",
    "print(pd.DataFrame(results).set_index('model').sort_values('test_rmse'))"
   ]
  },
  {
   "cell_type": "markdown",
   "id": "b0af2353",
   "metadata": {},
   "source": [
    "**SVDpp & BaselineOnly models with higher amount of data**"
   ]
  },
  {
   "cell_type": "code",
   "execution_count": 62,
   "id": "cdd58a5f",
   "metadata": {},
   "outputs": [
    {
     "name": "stdout",
     "output_type": "stream",
     "text": [
      "Model completed: SVDpp\n",
      "Estimating biases using als...\n",
      "Estimating biases using als...\n",
      "Estimating biases using als...\n",
      "Model completed: BaselineOnly\n",
      "              test_rmse    fit_time  test_time\n",
      "model                                         \n",
      "SVDpp          0.879168  131.615084  56.774370\n",
      "BaselineOnly   0.888716   12.003450  10.575098\n"
     ]
    }
   ],
   "source": [
    "#parse training data and identify minimum and maximum rating\n",
    "reader = Reader(rating_scale=(min(model_data['rating']),max(model_data['rating'])))\n",
    "#load data from DataFrame\n",
    "model_train = Dataset.load_from_df(model_data.sample(frac=0.30,random_state=42),reader)\n",
    "#empty list to capture model results\n",
    "results = []\n",
    "#model names for iteration\n",
    "model_names = ['SVDpp',\n",
    "               'BaselineOnly']\n",
    "#model instances for iteration\n",
    "model_instances = [SVDpp(),\n",
    "                   BaselineOnly()]\n",
    "#iteration of model name and instances to calculate RMSE for model through cross validation\n",
    "for name, model in zip(model_names, model_instances):\n",
    "    result = cross_validate(model, model_train, measures=['RMSE'],cv=3,verbose=False)\n",
    "    result_prep = pd.DataFrame(result).mean(axis=0)\n",
    "    result_prep['model'] = name\n",
    "    results.append(result_prep)\n",
    "    print(fr\"Model completed: {name}\")\n",
    "#display results from sorting by best test_rmse  \n",
    "print(pd.DataFrame(results).set_index('model').sort_values('test_rmse'))"
   ]
  },
  {
   "cell_type": "markdown",
   "id": "4e03904c",
   "metadata": {},
   "source": [
    "## Model hyperparameter tuning ##"
   ]
  },
  {
   "cell_type": "markdown",
   "id": "00eddd19",
   "metadata": {},
   "source": [
    "**Hyperparameter Tuning for SVDpp model**"
   ]
  },
  {
   "cell_type": "code",
   "execution_count": 63,
   "id": "e1744607",
   "metadata": {},
   "outputs": [
    {
     "data": {
      "text/html": [
       "<div>\n",
       "<style scoped>\n",
       "    .dataframe tbody tr th:only-of-type {\n",
       "        vertical-align: middle;\n",
       "    }\n",
       "\n",
       "    .dataframe tbody tr th {\n",
       "        vertical-align: top;\n",
       "    }\n",
       "\n",
       "    .dataframe thead th {\n",
       "        text-align: right;\n",
       "    }\n",
       "</style>\n",
       "<table border=\"1\" class=\"dataframe\">\n",
       "  <thead>\n",
       "    <tr style=\"text-align: right;\">\n",
       "      <th></th>\n",
       "      <th>mean_test_rmse</th>\n",
       "      <th>std_test_rmse</th>\n",
       "      <th>mean_train_rmse</th>\n",
       "      <th>std_train_rmse</th>\n",
       "      <th>rank_test_rmse</th>\n",
       "      <th>mean_fit_time</th>\n",
       "      <th>std_fit_time</th>\n",
       "      <th>mean_test_time</th>\n",
       "      <th>std_test_time</th>\n",
       "      <th>params</th>\n",
       "    </tr>\n",
       "  </thead>\n",
       "  <tbody>\n",
       "    <tr>\n",
       "      <th>0</th>\n",
       "      <td>0.899217</td>\n",
       "      <td>0.000807</td>\n",
       "      <td>0.813071</td>\n",
       "      <td>0.001245</td>\n",
       "      <td>1</td>\n",
       "      <td>9.928379</td>\n",
       "      <td>0.029144</td>\n",
       "      <td>6.346866</td>\n",
       "      <td>1.534199</td>\n",
       "      <td>{'n_factors': 1, 'n_epochs': 20, 'init_std_dev...</td>\n",
       "    </tr>\n",
       "  </tbody>\n",
       "</table>\n",
       "</div>"
      ],
      "text/plain": [
       "   mean_test_rmse  std_test_rmse  mean_train_rmse  std_train_rmse  \\\n",
       "0        0.899217       0.000807         0.813071        0.001245   \n",
       "\n",
       "   rank_test_rmse  mean_fit_time  std_fit_time  mean_test_time  std_test_time  \\\n",
       "0               1       9.928379      0.029144        6.346866       1.534199   \n",
       "\n",
       "                                              params  \n",
       "0  {'n_factors': 1, 'n_epochs': 20, 'init_std_dev...  "
      ]
     },
     "execution_count": 63,
     "metadata": {},
     "output_type": "execute_result"
    }
   ],
   "source": [
    "#create copy of model data for grid search\n",
    "grid_data = model_data.sample(n=1000000)\n",
    "#parse training data and identify minimum and maximum rating\n",
    "reader = Reader(rating_scale=(min(grid_data['rating']),max(grid_data['rating'])))\n",
    "#load data from DataFrame\n",
    "data = Dataset.load_from_df(grid_data[['userId','movieId','rating']], reader)\n",
    "#create parameter grid for gridsearch\n",
    "parameter_grid = {'n_factors': [1],'n_epochs': [20],'init_std_dev':[0.01],'lr_all':[0.0075],'reg_all':[0.007]}\n",
    "#perform grid search\n",
    "gridsearch = GridSearchCV(algo_class=SVDpp, param_grid= parameter_grid,cv=5,return_train_measures=True)\n",
    "gridsearch.fit(data)\n",
    "#save gridsearch results\n",
    "results = pd.DataFrame(gridsearch.cv_results)\n",
    "results = results[['mean_test_rmse','std_test_rmse','mean_train_rmse','std_train_rmse','rank_test_rmse','mean_fit_time','std_fit_time','mean_test_time','std_test_time','params']]\n",
    "results.sort_values('mean_test_rmse')"
   ]
  },
  {
   "cell_type": "markdown",
   "id": "6de1e32f",
   "metadata": {},
   "source": [
    "**Hyperparameter Tuning for BaselineOnly model with method als**"
   ]
  },
  {
   "cell_type": "code",
   "execution_count": 64,
   "id": "81d6c048",
   "metadata": {},
   "outputs": [
    {
     "name": "stdout",
     "output_type": "stream",
     "text": [
      "Estimating biases using als...\n",
      "Estimating biases using als...\n",
      "Estimating biases using als...\n",
      "Estimating biases using als...\n",
      "Estimating biases using als...\n"
     ]
    },
    {
     "data": {
      "text/html": [
       "<div>\n",
       "<style scoped>\n",
       "    .dataframe tbody tr th:only-of-type {\n",
       "        vertical-align: middle;\n",
       "    }\n",
       "\n",
       "    .dataframe tbody tr th {\n",
       "        vertical-align: top;\n",
       "    }\n",
       "\n",
       "    .dataframe thead th {\n",
       "        text-align: right;\n",
       "    }\n",
       "</style>\n",
       "<table border=\"1\" class=\"dataframe\">\n",
       "  <thead>\n",
       "    <tr style=\"text-align: right;\">\n",
       "      <th></th>\n",
       "      <th>mean_test_rmse</th>\n",
       "      <th>std_test_rmse</th>\n",
       "      <th>mean_train_rmse</th>\n",
       "      <th>std_train_rmse</th>\n",
       "      <th>rank_test_rmse</th>\n",
       "      <th>mean_fit_time</th>\n",
       "      <th>std_fit_time</th>\n",
       "      <th>mean_test_time</th>\n",
       "      <th>std_test_time</th>\n",
       "      <th>params</th>\n",
       "    </tr>\n",
       "  </thead>\n",
       "  <tbody>\n",
       "    <tr>\n",
       "      <th>0</th>\n",
       "      <td>0.899889</td>\n",
       "      <td>0.001258</td>\n",
       "      <td>0.81507</td>\n",
       "      <td>0.000276</td>\n",
       "      <td>1</td>\n",
       "      <td>7.082615</td>\n",
       "      <td>0.105638</td>\n",
       "      <td>0.655448</td>\n",
       "      <td>0.005004</td>\n",
       "      <td>{'bsl_options': {'method': 'als', 'reg_i': 5, ...</td>\n",
       "    </tr>\n",
       "  </tbody>\n",
       "</table>\n",
       "</div>"
      ],
      "text/plain": [
       "   mean_test_rmse  std_test_rmse  mean_train_rmse  std_train_rmse  \\\n",
       "0        0.899889       0.001258          0.81507        0.000276   \n",
       "\n",
       "   rank_test_rmse  mean_fit_time  std_fit_time  mean_test_time  std_test_time  \\\n",
       "0               1       7.082615      0.105638        0.655448       0.005004   \n",
       "\n",
       "                                              params  \n",
       "0  {'bsl_options': {'method': 'als', 'reg_i': 5, ...  "
      ]
     },
     "execution_count": 64,
     "metadata": {},
     "output_type": "execute_result"
    }
   ],
   "source": [
    "#create copy of model data for grid search\n",
    "grid_data = model_data.sample(n=1000000)\n",
    "#parse training data and identify minimum and maximum rating\n",
    "reader = Reader(rating_scale=(min(grid_data['rating']),max(grid_data['rating'])))\n",
    "#load data from DataFrame\n",
    "data = Dataset.load_from_df(grid_data[['userId','movieId','rating']], reader)\n",
    "#create parameter grid for gridsearch\n",
    "#'reg_i':[1,5,10,15],'reg_u':[5,10,15,20],'n_epochs':[1,5,10,15]\n",
    "parameter_grid = {'bsl_options':{'method':['als'],'reg_i':[5],'reg_u':[4],'n_epochs':[19]}}\n",
    "#perform grid search\n",
    "gridsearch = GridSearchCV(algo_class=BaselineOnly, param_grid= parameter_grid,cv=5,return_train_measures=True)\n",
    "gridsearch.fit(data)\n",
    "#save gridsearch results\n",
    "results = pd.DataFrame(gridsearch.cv_results)\n",
    "results = results[['mean_test_rmse','std_test_rmse','mean_train_rmse','std_train_rmse','rank_test_rmse','mean_fit_time','std_fit_time','mean_test_time','std_test_time','params']]\n",
    "results.sort_values('mean_test_rmse')"
   ]
  },
  {
   "cell_type": "markdown",
   "id": "8eed03e6",
   "metadata": {},
   "source": [
    "**Hyperparameter Tuning for BaselineOnly model with method sgd**"
   ]
  },
  {
   "cell_type": "code",
   "execution_count": 65,
   "id": "339c5c83",
   "metadata": {},
   "outputs": [
    {
     "name": "stdout",
     "output_type": "stream",
     "text": [
      "Estimating biases using sgd...\n",
      "Estimating biases using sgd...\n",
      "Estimating biases using sgd...\n",
      "Estimating biases using sgd...\n",
      "Estimating biases using sgd...\n"
     ]
    },
    {
     "data": {
      "text/html": [
       "<div>\n",
       "<style scoped>\n",
       "    .dataframe tbody tr th:only-of-type {\n",
       "        vertical-align: middle;\n",
       "    }\n",
       "\n",
       "    .dataframe tbody tr th {\n",
       "        vertical-align: top;\n",
       "    }\n",
       "\n",
       "    .dataframe thead th {\n",
       "        text-align: right;\n",
       "    }\n",
       "</style>\n",
       "<table border=\"1\" class=\"dataframe\">\n",
       "  <thead>\n",
       "    <tr style=\"text-align: right;\">\n",
       "      <th></th>\n",
       "      <th>mean_test_rmse</th>\n",
       "      <th>std_test_rmse</th>\n",
       "      <th>mean_train_rmse</th>\n",
       "      <th>std_train_rmse</th>\n",
       "      <th>rank_test_rmse</th>\n",
       "      <th>mean_fit_time</th>\n",
       "      <th>std_fit_time</th>\n",
       "      <th>mean_test_time</th>\n",
       "      <th>std_test_time</th>\n",
       "      <th>params</th>\n",
       "    </tr>\n",
       "  </thead>\n",
       "  <tbody>\n",
       "    <tr>\n",
       "      <th>0</th>\n",
       "      <td>0.899181</td>\n",
       "      <td>0.001092</td>\n",
       "      <td>0.817553</td>\n",
       "      <td>0.000366</td>\n",
       "      <td>1</td>\n",
       "      <td>5.523677</td>\n",
       "      <td>0.228008</td>\n",
       "      <td>2.026397</td>\n",
       "      <td>1.65764</td>\n",
       "      <td>{'bsl_options': {'method': 'sgd', 'reg': 0.001...</td>\n",
       "    </tr>\n",
       "  </tbody>\n",
       "</table>\n",
       "</div>"
      ],
      "text/plain": [
       "   mean_test_rmse  std_test_rmse  mean_train_rmse  std_train_rmse  \\\n",
       "0        0.899181       0.001092         0.817553        0.000366   \n",
       "\n",
       "   rank_test_rmse  mean_fit_time  std_fit_time  mean_test_time  std_test_time  \\\n",
       "0               1       5.523677      0.228008        2.026397        1.65764   \n",
       "\n",
       "                                              params  \n",
       "0  {'bsl_options': {'method': 'sgd', 'reg': 0.001...  "
      ]
     },
     "execution_count": 65,
     "metadata": {},
     "output_type": "execute_result"
    }
   ],
   "source": [
    "#create copy of model data for grid search\n",
    "grid_data = model_data.sample(n=1000000)\n",
    "#parse training data and identify minimum and maximum rating\n",
    "reader = Reader(rating_scale=(min(grid_data['rating']),max(grid_data['rating'])))\n",
    "#load data from DataFrame\n",
    "data = Dataset.load_from_df(grid_data[['userId','movieId','rating']], reader)\n",
    "#create parameter grid for gridsearch\n",
    "#,'learning_rate':[0.001,0.005,0.010,0.05],'n_epochs':[1,10,20,25]\n",
    "parameter_grid = {'bsl_options':{'method':['sgd'],'reg':[0.001],'learning_rate':[0.007],'n_epochs':[22]}}\n",
    "#perform grid search\n",
    "gridsearch = GridSearchCV(algo_class=BaselineOnly, param_grid= parameter_grid,cv=5,return_train_measures=True)\n",
    "gridsearch.fit(data)\n",
    "#save gridsearch results\n",
    "results = pd.DataFrame(gridsearch.cv_results)\n",
    "results = results[['mean_test_rmse','std_test_rmse','mean_train_rmse','std_train_rmse','rank_test_rmse','mean_fit_time','std_fit_time','mean_test_time','std_test_time','params']]\n",
    "results.sort_values('mean_test_rmse')"
   ]
  },
  {
   "cell_type": "markdown",
   "id": "f146f6d1",
   "metadata": {},
   "source": [
    "## Models Metrics evaluation ##"
   ]
  },
  {
   "cell_type": "markdown",
   "id": "6e63ea72",
   "metadata": {},
   "source": [
    "**Using Cross Validation to determine best performing models: Normal vs Hyperparameter tuned models**"
   ]
  },
  {
   "cell_type": "code",
   "execution_count": 66,
   "id": "34eef664",
   "metadata": {},
   "outputs": [
    {
     "name": "stdout",
     "output_type": "stream",
     "text": [
      "Model completed: SVDpp\n",
      "Estimating biases using als...\n",
      "Estimating biases using als...\n",
      "Estimating biases using als...\n",
      "Estimating biases using als...\n",
      "Estimating biases using als...\n",
      "Model completed: BaselineOnly\n",
      "Model completed: SVDpp_hyper\n",
      "Estimating biases using als...\n",
      "Estimating biases using als...\n",
      "Estimating biases using als...\n",
      "Estimating biases using als...\n",
      "Estimating biases using als...\n",
      "Model completed: BaselineOnly_als\n",
      "Estimating biases using sgd...\n",
      "Estimating biases using sgd...\n",
      "Estimating biases using sgd...\n",
      "Estimating biases using sgd...\n",
      "Estimating biases using sgd...\n",
      "Model completed: BaselineOnly_sgd\n",
      "                  test_rmse    fit_time  test_time\n",
      "model                                             \n",
      "SVDpp_hyper        0.868711   60.801941  36.790281\n",
      "SVDpp              0.872158  178.093541  39.001527\n",
      "BaselineOnly_als   0.878207   24.988228   6.709462\n",
      "BaselineOnly_sgd   0.881294   17.403942   6.416832\n",
      "BaselineOnly       0.885193   14.331522   7.873344\n"
     ]
    }
   ],
   "source": [
    "#parse training data and identify minimum and maximum rating\n",
    "reader = Reader(rating_scale=(min(model_data['rating']),max(model_data['rating'])))\n",
    "#load data from DataFrame\n",
    "model_train = Dataset.load_from_df(model_data.sample(frac=0.30,random_state=42),reader)\n",
    "#empty list to capture model results\n",
    "results = []\n",
    "#model names for iteration\n",
    "model_names = ['SVDpp',\n",
    "               'BaselineOnly','SVDpp_hyper',\n",
    "               'BaselineOnly_als','BaselineOnly_sgd']\n",
    "#model instances for iteration\n",
    "model_instances = [SVDpp(),\n",
    "                   BaselineOnly(),\n",
    "                   SVDpp(n_factors=1, n_epochs=20, init_std_dev=0.01, lr_all=0.0075,reg_all=0.007),\n",
    "                  BaselineOnly(bsl_options={'method':'als','reg_i':5,'reg_u':4,'n_epochs':19}),\n",
    "                  BaselineOnly(bsl_options={'method':'sgd','reg':0.001,'learning_rate':0.007,'n_epochs':22})]\n",
    "#iteration of model name and instances to calculate RMSE for model through cross validation\n",
    "for name, model in zip(model_names, model_instances):\n",
    "    result = cross_validate(model, model_train, measures=['RMSE'],cv=5,verbose=False)\n",
    "    result_prep = pd.DataFrame(result).mean(axis=0)\n",
    "    result_prep['model'] = name\n",
    "    results.append(result_prep)\n",
    "    print(fr\"Model completed: {name}\")\n",
    "#display results from sorting by best test_rmse      \n",
    "print(pd.DataFrame(results).set_index('model').sort_values('test_rmse'))"
   ]
  },
  {
   "cell_type": "markdown",
   "id": "fd8e965f",
   "metadata": {},
   "source": [
    "## Final model creation ##"
   ]
  },
  {
   "cell_type": "code",
   "execution_count": 18,
   "id": "f3c67fea",
   "metadata": {},
   "outputs": [
    {
     "name": "stdout",
     "output_type": "stream",
     "text": [
      "   userId  movieId  rating\n",
      "0    5163    57669     4.0\n",
      "1  106343        5     4.5\n",
      "2  146790     5459     5.0\n",
      "3  106362    32296     2.0\n",
      "4    9041      366     3.0\n"
     ]
    },
    {
     "data": {
      "text/plain": [
       "(9987086, 3)"
      ]
     },
     "execution_count": 18,
     "metadata": {},
     "output_type": "execute_result"
    }
   ],
   "source": [
    "#Train final model\n",
    "final_train_data = model_data.copy()\n",
    "print(final_train_data.head())\n",
    "final_train_data.shape"
   ]
  },
  {
   "cell_type": "code",
   "execution_count": 19,
   "id": "d9e8f21e",
   "metadata": {},
   "outputs": [
    {
     "data": {
      "text/plain": [
       "<surprise.prediction_algorithms.matrix_factorization.SVDpp at 0x2139466aa30>"
      ]
     },
     "execution_count": 19,
     "metadata": {},
     "output_type": "execute_result"
    }
   ],
   "source": [
    "#parse training data and identify minimum and maximum rating\n",
    "reader = Reader(rating_scale=(min(final_train_data['rating']),max(final_train_data['rating'])))\n",
    "#load data from DataFrame\n",
    "final_model_train = Dataset.load_from_df(final_train_data,reader=reader)\n",
    "#build full trainset from the final_model_train\n",
    "SVDpp_hyper_final_model_train = final_model_train.build_full_trainset()\n",
    "#create instance of SVDpp hyperparameter model\n",
    "SVDpp_hyper = SVDpp()\n",
    "#fit full trainset:SVDpp_hyper_final_model_train to model\n",
    "SVDpp_hyper.fit(SVDpp_hyper_final_model_train)"
   ]
  },
  {
   "cell_type": "code",
   "execution_count": 20,
   "id": "8ae86538",
   "metadata": {},
   "outputs": [
    {
     "name": "stdout",
     "output_type": "stream",
     "text": [
      "   userId  movieId\n",
      "0       1     2011\n",
      "1       1     4144\n",
      "2       1     5767\n",
      "3       1     6711\n",
      "4       1     7318\n"
     ]
    },
    {
     "data": {
      "text/plain": [
       "(5000019, 2)"
      ]
     },
     "execution_count": 20,
     "metadata": {},
     "output_type": "execute_result"
    }
   ],
   "source": [
    "#display testing data header\n",
    "print(test.head())\n",
    "#show amount of columns and rows in test dataset\n",
    "test.shape"
   ]
  },
  {
   "cell_type": "code",
   "execution_count": 21,
   "id": "a24a727a",
   "metadata": {},
   "outputs": [],
   "source": [
    "#predict test data ratings\n",
    "test_predictions = predict(SVDpp_hyper,test,usercol='userId',itemcol='movieId')"
   ]
  },
  {
   "cell_type": "code",
   "execution_count": 72,
   "id": "1e2a9acb",
   "metadata": {},
   "outputs": [
    {
     "data": {
      "text/html": [
       "<div>\n",
       "<style scoped>\n",
       "    .dataframe tbody tr th:only-of-type {\n",
       "        vertical-align: middle;\n",
       "    }\n",
       "\n",
       "    .dataframe tbody tr th {\n",
       "        vertical-align: top;\n",
       "    }\n",
       "\n",
       "    .dataframe thead th {\n",
       "        text-align: right;\n",
       "    }\n",
       "</style>\n",
       "<table border=\"1\" class=\"dataframe\">\n",
       "  <thead>\n",
       "    <tr style=\"text-align: right;\">\n",
       "      <th></th>\n",
       "      <th>userId</th>\n",
       "      <th>movieId</th>\n",
       "      <th>prediction</th>\n",
       "    </tr>\n",
       "  </thead>\n",
       "  <tbody>\n",
       "    <tr>\n",
       "      <th>0</th>\n",
       "      <td>1</td>\n",
       "      <td>2011</td>\n",
       "      <td>3.021318</td>\n",
       "    </tr>\n",
       "    <tr>\n",
       "      <th>1</th>\n",
       "      <td>1</td>\n",
       "      <td>4144</td>\n",
       "      <td>4.482510</td>\n",
       "    </tr>\n",
       "    <tr>\n",
       "      <th>2</th>\n",
       "      <td>1</td>\n",
       "      <td>5767</td>\n",
       "      <td>4.010511</td>\n",
       "    </tr>\n",
       "    <tr>\n",
       "      <th>3</th>\n",
       "      <td>1</td>\n",
       "      <td>6711</td>\n",
       "      <td>4.387472</td>\n",
       "    </tr>\n",
       "    <tr>\n",
       "      <th>4</th>\n",
       "      <td>1</td>\n",
       "      <td>7318</td>\n",
       "      <td>2.869883</td>\n",
       "    </tr>\n",
       "    <tr>\n",
       "      <th>...</th>\n",
       "      <td>...</td>\n",
       "      <td>...</td>\n",
       "      <td>...</td>\n",
       "    </tr>\n",
       "    <tr>\n",
       "      <th>5000014</th>\n",
       "      <td>162541</td>\n",
       "      <td>4079</td>\n",
       "      <td>3.519113</td>\n",
       "    </tr>\n",
       "    <tr>\n",
       "      <th>5000015</th>\n",
       "      <td>162541</td>\n",
       "      <td>4467</td>\n",
       "      <td>4.232890</td>\n",
       "    </tr>\n",
       "    <tr>\n",
       "      <th>5000016</th>\n",
       "      <td>162541</td>\n",
       "      <td>4980</td>\n",
       "      <td>2.404810</td>\n",
       "    </tr>\n",
       "    <tr>\n",
       "      <th>5000017</th>\n",
       "      <td>162541</td>\n",
       "      <td>5689</td>\n",
       "      <td>2.891274</td>\n",
       "    </tr>\n",
       "    <tr>\n",
       "      <th>5000018</th>\n",
       "      <td>162541</td>\n",
       "      <td>7153</td>\n",
       "      <td>5.000000</td>\n",
       "    </tr>\n",
       "  </tbody>\n",
       "</table>\n",
       "<p>5000019 rows × 3 columns</p>\n",
       "</div>"
      ],
      "text/plain": [
       "         userId  movieId  prediction\n",
       "0             1     2011    3.021318\n",
       "1             1     4144    4.482510\n",
       "2             1     5767    4.010511\n",
       "3             1     6711    4.387472\n",
       "4             1     7318    2.869883\n",
       "...         ...      ...         ...\n",
       "5000014  162541     4079    3.519113\n",
       "5000015  162541     4467    4.232890\n",
       "5000016  162541     4980    2.404810\n",
       "5000017  162541     5689    2.891274\n",
       "5000018  162541     7153    5.000000\n",
       "\n",
       "[5000019 rows x 3 columns]"
      ]
     },
     "execution_count": 72,
     "metadata": {},
     "output_type": "execute_result"
    }
   ],
   "source": [
    "#View predictions dataframe\n",
    "test_predictions"
   ]
  },
  {
   "cell_type": "code",
   "execution_count": 73,
   "id": "0c8aea20",
   "metadata": {},
   "outputs": [],
   "source": [
    "#create copy of test predictions dataframe\n",
    "test_predictions_final = test_predictions.copy()\n",
    "#convert columns to string format for concatenation\n",
    "test_predictions_final['userId'] = test_predictions_final['userId'].astype('str')\n",
    "test_predictions_final['movieId'] = test_predictions_final['movieId'].astype('str')\n",
    "#add two columns together for submission\n",
    "test_predictions_final['userId_movieId'] = test_predictions_final['userId']+\"_\"+test_predictions_final['movieId']\n",
    "#rename columns to correct submission columns names\n",
    "test_predictions_final = test_predictions_final.rename({'userId_movieId':'Id','prediction':'rating'},axis=1)\n",
    "#filter for sumbmission columns\n",
    "test_predictions_final = test_predictions_final[['Id','rating']]"
   ]
  },
  {
   "cell_type": "code",
   "execution_count": 74,
   "id": "5ce00064",
   "metadata": {},
   "outputs": [
    {
     "name": "stdout",
     "output_type": "stream",
     "text": [
      "       Id    rating\n",
      "0  1_2011  3.021318\n",
      "1  1_4144  4.482510\n",
      "2  1_5767  4.010511\n",
      "3  1_6711  4.387472\n",
      "4  1_7318  2.869883\n",
      "(5000019, 2)\n"
     ]
    }
   ],
   "source": [
    "#Confirm data header and confirm row and column amount\n",
    "print(test_predictions_final.head())\n",
    "print(test_predictions_final.shape)"
   ]
  },
  {
   "cell_type": "code",
   "execution_count": 75,
   "id": "e5494ee4",
   "metadata": {},
   "outputs": [],
   "source": [
    "#prediction results to csv file for submission\n",
    "pd.DataFrame(test_predictions_final).to_csv('SVDpp Rating submission.csv', index=False)"
   ]
  },
  {
   "cell_type": "markdown",
   "id": "c197298e",
   "metadata": {},
   "source": [
    "## Save model for reproducability ##"
   ]
  },
  {
   "cell_type": "code",
   "execution_count": 76,
   "id": "d2ee168a",
   "metadata": {},
   "outputs": [],
   "source": [
    "#save pickle model\n",
    "model_save_path = 'SVDpp.pkl'\n",
    "with open(model_save_path, 'wb') as file:\n",
    "    pickle.dump(SVDpp_hyper, file)\n",
    "\n",
    "#load pickle Model\n",
    "with open(model_save_path, 'rb') as file:\n",
    "    unpickled_model = pickle.load(file)"
   ]
  },
  {
   "cell_type": "code",
   "execution_count": 82,
   "id": "7345d381",
   "metadata": {},
   "outputs": [
    {
     "data": {
      "text/plain": [
       "Prediction(uid=1, iid=2011, r_ui=None, est=3.0213180316215653, details={'was_impossible': False})"
      ]
     },
     "execution_count": 82,
     "metadata": {},
     "output_type": "execute_result"
    }
   ],
   "source": [
    "#test prediction with userId and movieId\n",
    "unpickled_model.predict(1,2011)"
   ]
  },
  {
   "cell_type": "markdown",
   "id": "12719eb2",
   "metadata": {},
   "source": [
    "## Conclusion ##\n",
    "\n",
    "In the model evaluation metrics section it was clear that both the SVDpp_hyper and SVDpp models performed the best in terms of test_rmse. The only concern with the following models was a higher fit time compared to the other models.\n",
    "\n",
    "                  \n",
    "**model**     &   **test_rmse** \n",
    "\n",
    "SVDpp_hyper:        0.868711\n",
    "\n",
    "SVDpp:             0.872158\n",
    "\n",
    "The final model used was the SVDpp model. After fitting both the hyperparameter tuned and normal SVDpp model the Normal SVDpp model outperformed the hyperparameter model. The reason for the above is due to overfitting on hyperparameter tuned SVDpp model the normal model was able to calculate a better RMSE when the amount of observations increased.\n",
    "\n",
    "SVDpp is a collaborative filtering method and a extension of the SVD model. This model is used to determine movie recommendations based on item user matrix."
   ]
  }
 ],
 "metadata": {
  "kernelspec": {
   "display_name": "Python 3 (ipykernel)",
   "language": "python",
   "name": "python3"
  },
  "language_info": {
   "codemirror_mode": {
    "name": "ipython",
    "version": 3
   },
   "file_extension": ".py",
   "mimetype": "text/x-python",
   "name": "python",
   "nbconvert_exporter": "python",
   "pygments_lexer": "ipython3",
   "version": "3.9.13"
  }
 },
 "nbformat": 4,
 "nbformat_minor": 5
}
